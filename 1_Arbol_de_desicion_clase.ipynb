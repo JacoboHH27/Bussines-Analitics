{
  "nbformat": 4,
  "nbformat_minor": 0,
  "metadata": {
    "colab": {
      "provenance": [],
      "authorship_tag": "ABX9TyNZm1isFyl8tPsHP6J72m50",
      "include_colab_link": true
    },
    "kernelspec": {
      "name": "python3",
      "display_name": "Python 3"
    },
    "language_info": {
      "name": "python"
    }
  },
  "cells": [
    {
      "cell_type": "markdown",
      "metadata": {
        "id": "view-in-github",
        "colab_type": "text"
      },
      "source": [
        "<a href=\"https://colab.research.google.com/github/JacoboHH27/Bussines-Analitics/blob/main/1_Arbol_de_desicion_clase.ipynb\" target=\"_parent\"><img src=\"https://colab.research.google.com/assets/colab-badge.svg\" alt=\"Open In Colab\"/></a>"
      ]
    },
    {
      "cell_type": "code",
      "execution_count": null,
      "metadata": {
        "id": "Dv9Y0YYrwUbN"
      },
      "outputs": [],
      "source": []
    },
    {
      "cell_type": "markdown",
      "source": [
        "0. Cargamos las librerias\n"
      ],
      "metadata": {
        "id": "BfttgJOSD3mC"
      }
    },
    {
      "cell_type": "code",
      "source": [
        "import pandas as pd\n",
        "import numpy as np\n",
        "import matplotlib.pyplot as plt\n",
        "\n",
        "#se trae el modelo\n",
        "from sklearn.tree import DecisionTreeClassifier\n",
        "\n",
        "#Para llamar los archivos del drive sin subirlos - Sin tener que subirlos\n",
        "from google.colab import drive\n",
        "drive.mount('/content/drive')\n"
      ],
      "metadata": {
        "colab": {
          "base_uri": "https://localhost:8080/"
        },
        "id": "PVr1AyZJxGQi",
        "outputId": "93224620-0303-42b9-aa2c-b83d11acfe03"
      },
      "execution_count": null,
      "outputs": [
        {
          "output_type": "stream",
          "name": "stdout",
          "text": [
            "Mounted at /content/drive\n"
          ]
        }
      ]
    },
    {
      "cell_type": "markdown",
      "source": [
        "1. Se cargan los datos desde el drive"
      ],
      "metadata": {
        "id": "pXLtqEhvy2Ip"
      }
    },
    {
      "cell_type": "code",
      "source": [
        "nxl= '/content/drive/MyDrive/Analitica de Negocios/0. SolicitantesCrédito(USD) (1).xlsx'\n",
        "XDB= pd.read_excel(nxl, sheet_name=1)\n",
        "XDB=XDB.dropna()\n",
        "XDB.head()\n",
        "\n",
        "#seleccionamos las variables de interes\n",
        "XD=XDB[['Edad', 'Ingresos', 'Egresos', 'Monto (EAD)']]\n",
        "XD.head()\n",
        "XD=np.array(XD) #Convierte las variables en numeros - variables de entrada\n",
        "yd=XDB[['PreApr']]; yd=np.array(yd) #variable de salida  - convierto a la tabla\n"
      ],
      "metadata": {
        "id": "eQTUTQ1Yy7fI"
      },
      "execution_count": null,
      "outputs": []
    },
    {
      "cell_type": "markdown",
      "source": [
        "2.Se procede con la construccion del modelo de arbol"
      ],
      "metadata": {
        "id": "oz7y7aLd1hez"
      }
    },
    {
      "cell_type": "code",
      "source": [
        "mar=DecisionTreeClassifier(criterion='gini',max_depth=4)\n",
        "mar.fit(XD,yd)\n",
        "ydp=mar.predict(XD) #estos valores sirven para evaluar el proyecto\n",
        "\n",
        "#evaluamos el modelo\n",
        "from sklearn.metrics import confusion_matrix\n",
        "confusion_matrix(yd,ydp)\n",
        "cm=confusion_matrix(yd,ydp)\n",
        "VN=cm[0,0]; FN=cm[1,0]; VP=cm[1,1]; FP=cm[0,1]\n",
        "\n",
        "Ex=(VP+VN)/(VP+VN+FP+FN)\n",
        "Se=VP/(VP+FN); Es=VN/(VN+FP)\n",
        "\n",
        "print('Exactitud=',Ex)\n",
        "print('Sensibilidad=',Se)\n",
        "print('Especificidad=',Es)"
      ],
      "metadata": {
        "colab": {
          "base_uri": "https://localhost:8080/"
        },
        "id": "PJRtwf3N1lwg",
        "outputId": "1ff346c5-19e9-4818-c706-a38094d8ecda"
      },
      "execution_count": null,
      "outputs": [
        {
          "output_type": "stream",
          "name": "stdout",
          "text": [
            "Exactitud= 0.7771311194796303\n",
            "Sensibilidad= 0.7766215747485259\n",
            "Especificidad= 0.7776275768840825\n"
          ]
        }
      ]
    },
    {
      "cell_type": "markdown",
      "source": [
        "3.Se procede con la visualización del arbol"
      ],
      "metadata": {
        "id": "MDPMXsMB5U_v"
      }
    },
    {
      "cell_type": "code",
      "source": [
        "from sklearn.tree import export_graphviz\n",
        "from pydotplus import graph_from_dot_data #que datos le voy a colocar al arbol\n",
        "\n",
        "vs=['Edad','Ingresos','Egresos','Monto (EAD)'] #estos nombres aparecen en el arbol\n",
        "\n",
        "dot_data=export_graphviz(mar, feature_names=vs)\n",
        "graph=graph_from_dot_data(dot_data)\n",
        "graph.write_png('arbol.png') #entre mas individuos tenga el nodo y el gini sea menor, sera un mejor Nodo"
      ],
      "metadata": {
        "colab": {
          "base_uri": "https://localhost:8080/"
        },
        "id": "YE9Qu2Gn5eKb",
        "outputId": "8dd66e63-6c55-4e2d-db65-f770261e05cd"
      },
      "execution_count": null,
      "outputs": [
        {
          "output_type": "execute_result",
          "data": {
            "text/plain": [
              "True"
            ]
          },
          "metadata": {},
          "execution_count": 12
        }
      ]
    },
    {
      "cell_type": "markdown",
      "source": [
        "4. Le calculamos los valores de pre aprobación a los solicitantes nuevos"
      ],
      "metadata": {
        "id": "6QARcujXBFmZ"
      }
    },
    {
      "cell_type": "code",
      "source": [
        "XDB2=pd.read_excel(nxl, sheet_name=2)\n",
        "XDB2= XDB2[['Edad', 'Ingresos', 'Egresos', 'Monto (EAD)']]\n",
        "XDB2=XDB2.dropna()\n",
        "\n",
        "XD2=np.array(XDB2)\n",
        "ydp2=mar.predict(XDB2)\n",
        "XDB2['PreApr']=ydp2\n",
        "XDB2.head()\n",
        "\n",
        "XDB2.to_excel('NuevosSolicitantesPreApr.xlsx')\n",
        "\n",
        "np.sum(ydp2)\n",
        "len(ydp2)-np.sum(ydp2)"
      ],
      "metadata": {
        "colab": {
          "base_uri": "https://localhost:8080/"
        },
        "id": "jUrrLjaJBMG0",
        "outputId": "26705ee5-3b11-4c41-88c9-14542212958a"
      },
      "execution_count": null,
      "outputs": [
        {
          "output_type": "execute_result",
          "data": {
            "text/plain": [
              "1276"
            ]
          },
          "metadata": {},
          "execution_count": 17
        }
      ]
    },
    {
      "cell_type": "markdown",
      "source": [
        "**analizis de resultado final**\n",
        "De acuerdo con la base de datos se puede evidenciar un total de 5842 solicitantes de creditos de los cuales 2959 eran pre aprobados que representan un 51% y un total de 2883 prenegados 49%. De acuerdo con lo anterior el modelo de arbol arrojo un modelo de exactitud cercano al 77%, así como un indice de sensibilidad cercano al 77% igualmente y que muestran el comportamineto del modelo frente al inidice de espicificidad el cual mide el comportamiento del modelo en la clasificación de solicitantes PreNegados.\n",
        "Es importante mencionar que un modelo que exhiba valores de exactitud por encima del 75% es considerado un modelo aceptable para el pronostico de los datos.\n",
        "Para la base de datos de solicitantes nuevos (2536 solicitantes) se puede observar que el modelo clasifico un total de 1260 preaprobados que corresponde al x% y 1276 en la categoria de prenegados. Lo anterior muestra la predominancia del modelo por la clasificación de la categoria de pre negados."
      ],
      "metadata": {
        "id": "fYPadpy0DgIZ"
      }
    }
  ]
}